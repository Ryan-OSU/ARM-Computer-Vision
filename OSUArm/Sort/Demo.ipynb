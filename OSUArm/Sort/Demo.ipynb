{
 "cells": [
  {
   "cell_type": "code",
   "execution_count": 40,
   "id": "174b4dbe-9773-4062-a516-f28531f71752",
   "metadata": {},
   "outputs": [],
   "source": [
    "from skimage import measure as m\n",
    "from skimage.io import imread,imshow\n",
    "import pandas as pd\n",
    "import numpy as np\n",
    "import sys\n",
    "sys.path.insert(0, '../..')\n",
    "from skimage import feature,color,morphology\n",
    "from skimage.exposure import histogram\n",
    "import greedypacker\n",
    "from Sort import bin\n",
    "from OSUArm.Detection.detect import Workspace\n",
    "import matplotlib.pyplot as plt\n",
    "import matplotlib.patches as patches\n",
    "import matplotlib.cm as cm"
   ]
  },
  {
   "cell_type": "code",
   "execution_count": 84,
   "id": "6aab2182-33c3-40f2-9367-02c97cd87f8b",
   "metadata": {},
   "outputs": [],
   "source": [
    "binx = 7\n",
    "biny = 6\n",
    "w = Workspace([binx,biny],[0],r'../Data/state2.PNG')\n",
    "M = greedypacker.BinManager(binx, biny, pack_algo='maximal_rectangle',heuristic='bottom_left', wastemap=True, rotation=True)\n",
    "Bin = bin(w,M)"
   ]
  },
  {
   "cell_type": "code",
   "execution_count": 85,
   "id": "7da062d1-94ea-4700-9cad-d473570ca5d3",
   "metadata": {},
   "outputs": [],
   "source": [
    "Bin.pack()"
   ]
  },
  {
   "cell_type": "code",
   "execution_count": 86,
   "id": "e5c628f1-b485-40a4-96ee-4f924de76d57",
   "metadata": {},
   "outputs": [
    {
     "data": {
      "image/png": "[encoded data removed]",
      "text/plain": [
       "<Figure size 640x480 with 1 Axes>"
      ]
     },
     "metadata": {},
     "output_type": "display_data"
    }
   ],
   "source": [
    "fig, ax = plt.subplots()\n",
    "ax.imshow(Bin.workspace.imbw,cmap=cm.gray)\n",
    "for x in Bin.packer.bins[0].bin_stats()['items']:\n",
    "    rect = patches.Rectangle((x.x, x.y), x.width, x.height, linewidth=2, edgecolor='w', facecolor='red')\n",
    "    ax.add_patch(rect)\n",
    "    \n",
    "plt.xlim(0,Bin.packer.bin_width)\n",
    "plt.ylim(0,Bin.packer.bin_height)\n",
    "plt.show()"
   ]
  },
  {
   "cell_type": "code",
   "execution_count": 22,
   "id": "1b305886-819a-424e-8450-a1ffedeaa3d2",
   "metadata": {
    "collapsed": true,
    "jupyter": {
     "outputs_hidden": true
    },
    "tags": []
   },
   "outputs": [
    {
     "ename": "TypeError",
     "evalue": "'MaximalRectangle' object is not iterable",
     "output_type": "error",
     "traceback": [
      "\u001b[1;31m---------------------------------------------------------------------------\u001b[0m",
      "\u001b[1;31mTypeError\u001b[0m                                 Traceback (most recent call last)",
      "Cell \u001b[1;32mIn [22], line 1\u001b[0m\n\u001b[1;32m----> 1\u001b[0m \u001b[38;5;28;01mfor\u001b[39;00m x \u001b[38;5;129;01min\u001b[39;00m Bin\u001b[38;5;241m.\u001b[39mpacker\u001b[38;5;241m.\u001b[39mbins[\u001b[38;5;241m0\u001b[39m]:\n\u001b[0;32m      2\u001b[0m     \u001b[38;5;28mprint\u001b[39m(x)\n",
      "\u001b[1;31mTypeError\u001b[0m: 'MaximalRectangle' object is not iterable"
     ]
    }
   ],
   "source": []
  },
  {
   "cell_type": "code",
   "execution_count": null,
   "id": "47372ba7-97e8-46e1-8ea6-070eb9887ff4",
   "metadata": {},
   "outputs": [],
   "source": []
  }
 ],
 "metadata": {
  "kernelspec": {
   "display_name": "Python 3 (ipykernel)",
   "language": "python",
   "name": "python3"
  },
  "language_info": {
   "codemirror_mode": {
    "name": "ipython",
    "version": 3
   },
   "file_extension": ".py",
   "mimetype": "text/x-python",
   "name": "python",
   "nbconvert_exporter": "python",
   "pygments_lexer": "ipython3",
   "version": "3.10.7"
  }
 },
 "nbformat": 4,
 "nbformat_minor": 5
}
